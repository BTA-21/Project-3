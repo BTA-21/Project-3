{
  "nbformat": 4,
  "nbformat_minor": 0,
  "metadata": {
    "colab": {
      "provenance": []
    },
    "kernelspec": {
      "name": "python3",
      "display_name": "Python 3"
    },
    "language_info": {
      "name": "python"
    }
  },
  "cells": [
    {
      "cell_type": "markdown",
      "source": [
        "Project 2 Section"
      ],
      "metadata": {
        "id": "qI-mP--Fb1Hp"
      }
    },
    {
      "cell_type": "code",
      "execution_count": 1,
      "metadata": {
        "id": "vTzOM-DRixCj"
      },
      "outputs": [],
      "source": [
        "import pandas as pd\n",
        "\n",
        "df = pd.read_csv('sales_data.csv')"
      ]
    },
    {
      "cell_type": "code",
      "source": [
        "print(df.head(10))"
      ],
      "metadata": {
        "colab": {
          "base_uri": "https://localhost:8080/"
        },
        "id": "YbqIxYKtjL8Z",
        "outputId": "40ff8fff-7b09-479b-dd9d-a2d9d4cc8b09",
        "collapsed": true
      },
      "execution_count": 2,
      "outputs": [
        {
          "output_type": "stream",
          "name": "stdout",
          "text": [
            "         Date      Time    StoreID CustomerID  \\\n",
            "0  2023-01-01  00:00:00  Store_001   Cust_177   \n",
            "1  2023-01-01  00:00:00  Store_001   Cust_177   \n",
            "2  2023-01-01  00:00:00  Store_001   Cust_177   \n",
            "3  2023-01-01  00:00:00  Store_001   Cust_644   \n",
            "4  2023-01-01  00:00:00  Store_001   Cust_644   \n",
            "5  2023-01-01  00:00:00  Store_001   Cust_644   \n",
            "6  2023-01-01  00:00:00  Store_001   Cust_478   \n",
            "7  2023-01-01  00:00:00  Store_001   Cust_478   \n",
            "8  2023-01-01  00:00:00  Store_001   Cust_478   \n",
            "9  2023-01-01  00:00:00  Store_001   Cust_479   \n",
            "\n",
            "                                OrderID Product Name   Price  \n",
            "0  4c58c7b5-9d1d-40f9-a0d7-edbf29cec1c1     Keyboard    45.0  \n",
            "1  4c58c7b5-9d1d-40f9-a0d7-edbf29cec1c1      Printer   150.0  \n",
            "2  4c58c7b5-9d1d-40f9-a0d7-edbf29cec1c1       Laptop  1200.0  \n",
            "3  4796dca4-4f58-4b29-994b-4c08e68e7748      Monitor   300.0  \n",
            "4  4796dca4-4f58-4b29-994b-4c08e68e7748        Mouse    25.0  \n",
            "5  4796dca4-4f58-4b29-994b-4c08e68e7748     Keyboard    45.0  \n",
            "6  4313d20f-563e-4811-a75d-953c1419e2bb        Mouse    25.0  \n",
            "7  4313d20f-563e-4811-a75d-953c1419e2bb       Laptop  1200.0  \n",
            "8  4313d20f-563e-4811-a75d-953c1419e2bb     Keyboard    45.0  \n",
            "9  f35b189c-ef6c-49a2-9a01-f1505dee94fd       Laptop  1200.0  \n"
          ]
        }
      ]
    },
    {
      "cell_type": "code",
      "source": [
        "import pandas as pd\n",
        "import matplotlib.pyplot as plt"
      ],
      "metadata": {
        "id": "ozw9WZAXq8tc"
      },
      "execution_count": 3,
      "outputs": []
    },
    {
      "cell_type": "code",
      "source": [
        "# Load the sales data\n",
        "file_path = 'sales_data.csv'\n",
        "sales_data = pd.read_csv(file_path)"
      ],
      "metadata": {
        "id": "x10L6yatrBA5"
      },
      "execution_count": 4,
      "outputs": []
    },
    {
      "cell_type": "code",
      "source": [
        "# Display the first few rows of the dataframe\n",
        "print(sales_data.head())"
      ],
      "metadata": {
        "colab": {
          "base_uri": "https://localhost:8080/"
        },
        "id": "KSfn3UegrGiT",
        "outputId": "67d35af7-c197-48f4-874c-17782dd02c22",
        "collapsed": true
      },
      "execution_count": 5,
      "outputs": [
        {
          "output_type": "stream",
          "name": "stdout",
          "text": [
            "         Date      Time    StoreID CustomerID  \\\n",
            "0  2023-01-01  00:00:00  Store_001   Cust_177   \n",
            "1  2023-01-01  00:00:00  Store_001   Cust_177   \n",
            "2  2023-01-01  00:00:00  Store_001   Cust_177   \n",
            "3  2023-01-01  00:00:00  Store_001   Cust_644   \n",
            "4  2023-01-01  00:00:00  Store_001   Cust_644   \n",
            "\n",
            "                                OrderID Product Name   Price  \n",
            "0  4c58c7b5-9d1d-40f9-a0d7-edbf29cec1c1     Keyboard    45.0  \n",
            "1  4c58c7b5-9d1d-40f9-a0d7-edbf29cec1c1      Printer   150.0  \n",
            "2  4c58c7b5-9d1d-40f9-a0d7-edbf29cec1c1       Laptop  1200.0  \n",
            "3  4796dca4-4f58-4b29-994b-4c08e68e7748      Monitor   300.0  \n",
            "4  4796dca4-4f58-4b29-994b-4c08e68e7748        Mouse    25.0  \n"
          ]
        }
      ]
    },
    {
      "cell_type": "code",
      "source": [
        "# 1. The most prevalent products in customer baskets\n",
        "prevalent_products = sales_data['Product Name'].value_counts()\n",
        "print(\"Most prevalent products in customer baskets:\")\n",
        "print(prevalent_products)"
      ],
      "metadata": {
        "colab": {
          "base_uri": "https://localhost:8080/"
        },
        "id": "cVsG8m53rd1m",
        "outputId": "f0c00e69-8067-40b6-d03a-001cbdda07b1",
        "collapsed": true
      },
      "execution_count": 6,
      "outputs": [
        {
          "output_type": "stream",
          "name": "stdout",
          "text": [
            "Most prevalent products in customer baskets:\n",
            "Product Name\n",
            "Mouse       218\n",
            "Monitor     212\n",
            "Keyboard    200\n",
            "Laptop      192\n",
            "Printer     177\n",
            "Name: count, dtype: int64\n"
          ]
        }
      ]
    },
    {
      "cell_type": "code",
      "source": [
        "# 2. The frequency by which customers were large buyers or filled up large baskets\n",
        "# Assuming large basket is defined as having more than 3 items in a single order\n",
        "large_basket_orders = sales_data.groupby('OrderID').size()\n",
        "large_basket_frequency = large_basket_orders[large_basket_orders > 3].count()\n",
        "print(f\"Frequency of large basket orders: {large_basket_frequency}\")"
      ],
      "metadata": {
        "colab": {
          "base_uri": "https://localhost:8080/"
        },
        "id": "pioSMnfVriEq",
        "outputId": "5aca745b-59c4-43e7-e402-02f8343f6932",
        "collapsed": true
      },
      "execution_count": 7,
      "outputs": [
        {
          "output_type": "stream",
          "name": "stdout",
          "text": [
            "Frequency of large basket orders: 0\n"
          ]
        }
      ]
    },
    {
      "cell_type": "code",
      "source": [
        "# 3. Which stores contained the large-basket buyers and by how much\n",
        "large_basket_store_counts = sales_data[sales_data['OrderID'].isin(large_basket_orders[large_basket_orders > 3].index)]['StoreID'].value_counts()\n",
        "print(\"Stores containing large-basket buyers and their counts:\")\n",
        "print(large_basket_store_counts)"
      ],
      "metadata": {
        "colab": {
          "base_uri": "https://localhost:8080/"
        },
        "id": "hNokRAyGrniK",
        "outputId": "8ec4355b-4c65-425c-ffc1-6c2f43a2d534",
        "collapsed": true
      },
      "execution_count": 8,
      "outputs": [
        {
          "output_type": "stream",
          "name": "stdout",
          "text": [
            "Stores containing large-basket buyers and their counts:\n",
            "Series([], Name: count, dtype: int64)\n"
          ]
        }
      ]
    },
    {
      "cell_type": "code",
      "source": [
        "# 4. A visualization that ranks the top large-basket customer stores by frequency\n",
        "plt.figure(figsize=(10, 6))\n",
        "if not large_basket_store_counts.empty:\n",
        "    large_basket_store_counts.plot(kind='bar')\n",
        "    plt.title('Top Large-Basket Customer Stores by Frequency')\n",
        "    plt.xlabel('Store ID')\n",
        "    plt.ylabel('Frequency')\n",
        "    plt.xticks(rotation=45)\n",
        "    plt.show()\n",
        "else:\n",
        "    print(\"No large-basket orders found to plot.\")"
      ],
      "metadata": {
        "colab": {
          "base_uri": "https://localhost:8080/",
          "height": 54
        },
        "id": "FLvYeecUrsG5",
        "outputId": "a7b85089-f910-48f4-8cb0-a35654eb3ba6",
        "collapsed": true
      },
      "execution_count": 9,
      "outputs": [
        {
          "output_type": "stream",
          "name": "stdout",
          "text": [
            "No large-basket orders found to plot.\n"
          ]
        },
        {
          "output_type": "display_data",
          "data": {
            "text/plain": [
              "<Figure size 1000x600 with 0 Axes>"
            ]
          },
          "metadata": {}
        }
      ]
    },
    {
      "cell_type": "code",
      "source": [
        "# 5. A top-n list of products which were typical to customers in this demographic\n",
        "top_n_products = prevalent_products.head(10)\n",
        "print(\"Top-N list of products typical to customers in this demographic:\")\n",
        "print(top_n_products)"
      ],
      "metadata": {
        "colab": {
          "base_uri": "https://localhost:8080/"
        },
        "id": "GXGhmOhJryNx",
        "outputId": "220df4be-5a42-4e26-eed9-d7b91f194371",
        "collapsed": true
      },
      "execution_count": 10,
      "outputs": [
        {
          "output_type": "stream",
          "name": "stdout",
          "text": [
            "Top-N list of products typical to customers in this demographic:\n",
            "Product Name\n",
            "Mouse       218\n",
            "Monitor     212\n",
            "Keyboard    200\n",
            "Laptop      192\n",
            "Printer     177\n",
            "Name: count, dtype: int64\n"
          ]
        }
      ]
    },
    {
      "cell_type": "code",
      "source": [
        "# 6. A categorical approach to the above demographic – what is the categoric makeup of their baskets on average?\n",
        "categoric_makeup = sales_data[sales_data['OrderID'].isin(large_basket_orders[large_basket_orders > 3].index)]['Product Name'].value_counts(normalize=True)\n",
        "print(\"Categoric makeup of their baskets on average:\")\n",
        "print(categoric_makeup)"
      ],
      "metadata": {
        "colab": {
          "base_uri": "https://localhost:8080/"
        },
        "id": "V7ylzdC7r1y0",
        "outputId": "97b949cc-a18f-411c-ad6a-8da3bbb03e7e",
        "collapsed": true
      },
      "execution_count": 11,
      "outputs": [
        {
          "output_type": "stream",
          "name": "stdout",
          "text": [
            "Categoric makeup of their baskets on average:\n",
            "Series([], Name: proportion, dtype: float64)\n"
          ]
        }
      ]
    },
    {
      "cell_type": "code",
      "source": [
        "# 7. Formulate a visualization for item 6\n",
        "plt.figure(figsize=(10, 6))\n",
        "if not categoric_makeup.empty:\n",
        "    categoric_makeup.plot(kind='bar')\n",
        "    plt.title('Categoric Makeup of Large-Basket Orders')\n",
        "    plt.xlabel('Product Name')\n",
        "    plt.ylabel('Proportion')\n",
        "    plt.xticks(rotation=45)\n",
        "    plt.show()\n",
        "else:\n",
        "    print(\"No large-basket orders found to plot categoric makeup.\")"
      ],
      "metadata": {
        "colab": {
          "base_uri": "https://localhost:8080/",
          "height": 54
        },
        "id": "o33DHz1Mr7tp",
        "outputId": "131ee54d-2fe9-4db6-871b-fa4fec564c02",
        "collapsed": true
      },
      "execution_count": 12,
      "outputs": [
        {
          "output_type": "stream",
          "name": "stdout",
          "text": [
            "No large-basket orders found to plot categoric makeup.\n"
          ]
        },
        {
          "output_type": "display_data",
          "data": {
            "text/plain": [
              "<Figure size 1000x600 with 0 Axes>"
            ]
          },
          "metadata": {}
        }
      ]
    },
    {
      "cell_type": "markdown",
      "source": [
        "Project 3 Section\n"
      ],
      "metadata": {
        "id": "RjzzUpc4bvuk"
      }
    },
    {
      "cell_type": "markdown",
      "source": [
        "1. Most Prevalent Products in Customer Baskets"
      ],
      "metadata": {
        "id": "mE2gpKDhcILA"
      }
    },
    {
      "cell_type": "code",
      "source": [
        "prevalent_products = sales_data['Product Name'].value_counts()\n",
        "print(\"Most prevalent products in customer baskets:\")\n",
        "print(prevalent_products)"
      ],
      "metadata": {
        "colab": {
          "base_uri": "https://localhost:8080/"
        },
        "id": "_MzZYRiWb--o",
        "outputId": "f8e61bb2-0bb8-4627-cf16-f9465761142b"
      },
      "execution_count": 13,
      "outputs": [
        {
          "output_type": "stream",
          "name": "stdout",
          "text": [
            "Most prevalent products in customer baskets:\n",
            "Product Name\n",
            "Mouse       218\n",
            "Monitor     212\n",
            "Keyboard    200\n",
            "Laptop      192\n",
            "Printer     177\n",
            "Name: count, dtype: int64\n"
          ]
        }
      ]
    },
    {
      "cell_type": "markdown",
      "source": [
        "2. Frequency of Large Basket Orders"
      ],
      "metadata": {
        "id": "4ycaYKhQcP5Y"
      }
    },
    {
      "cell_type": "code",
      "source": [
        "large_basket_orders = sales_data.groupby('OrderID').size()\n",
        "large_basket_frequency = large_basket_orders[large_basket_orders > 3].count()\n",
        "print(f\"Frequency of large basket orders: {large_basket_frequency}\")"
      ],
      "metadata": {
        "colab": {
          "base_uri": "https://localhost:8080/"
        },
        "id": "zKuIBpArcRLz",
        "outputId": "c4d72d40-e26e-4760-fb3b-12df238424ca"
      },
      "execution_count": 14,
      "outputs": [
        {
          "output_type": "stream",
          "name": "stdout",
          "text": [
            "Frequency of large basket orders: 0\n"
          ]
        }
      ]
    },
    {
      "cell_type": "markdown",
      "source": [
        "3. Stores Containing Large-Basket Buyers"
      ],
      "metadata": {
        "id": "tdztaQGFcal4"
      }
    },
    {
      "cell_type": "code",
      "source": [
        "large_basket_store_counts = sales_data[sales_data['OrderID'].isin(large_basket_orders[large_basket_orders > 3].index)]['StoreID'].value_counts()\n",
        "print(\"Stores containing large-basket buyers and their counts:\")\n",
        "print(large_basket_store_counts)"
      ],
      "metadata": {
        "colab": {
          "base_uri": "https://localhost:8080/"
        },
        "id": "g-rVD3eEcdBZ",
        "outputId": "9594a3a2-0edd-4952-a3b4-6716bdc27abe"
      },
      "execution_count": 15,
      "outputs": [
        {
          "output_type": "stream",
          "name": "stdout",
          "text": [
            "Stores containing large-basket buyers and their counts:\n",
            "Series([], Name: count, dtype: int64)\n"
          ]
        }
      ]
    },
    {
      "cell_type": "markdown",
      "source": [
        " 4. Visualization of Top Large-Basket Customer Stores by Frequency"
      ],
      "metadata": {
        "id": "uhBaaFSkcgY7"
      }
    },
    {
      "cell_type": "code",
      "source": [
        "plt.figure(figsize=(10, 6))\n",
        "if not large_basket_store_counts.empty:\n",
        "    large_basket_store_counts.plot(kind='bar')\n",
        "    plt.title('Top Large-Basket Customer Stores by Frequency')\n",
        "    plt.xlabel('Store ID')\n",
        "    plt.ylabel('Frequency')\n",
        "    plt.xticks(rotation=45)\n",
        "    plt.show()\n",
        "else:\n",
        "    print(\"No large-basket orders found to plot.\")"
      ],
      "metadata": {
        "colab": {
          "base_uri": "https://localhost:8080/",
          "height": 54
        },
        "id": "9b9gK0udcgmr",
        "outputId": "100c72cd-84ed-4c94-d737-174b38a6af7e"
      },
      "execution_count": 16,
      "outputs": [
        {
          "output_type": "stream",
          "name": "stdout",
          "text": [
            "No large-basket orders found to plot.\n"
          ]
        },
        {
          "output_type": "display_data",
          "data": {
            "text/plain": [
              "<Figure size 1000x600 with 0 Axes>"
            ]
          },
          "metadata": {}
        }
      ]
    },
    {
      "cell_type": "markdown",
      "source": [
        "5. Top-N List of Products Typical to Customers"
      ],
      "metadata": {
        "id": "ZEE_6LQXejFB"
      }
    },
    {
      "cell_type": "code",
      "source": [
        "top_n_products = prevalent_products.head(10)\n",
        "print(\"Top-N list of products typical to customers in this demographic:\")\n",
        "print(top_n_products)"
      ],
      "metadata": {
        "colab": {
          "base_uri": "https://localhost:8080/"
        },
        "id": "sNWUYDX5eke4",
        "outputId": "cee2988e-a9bb-4e55-c4b2-09f8f032aec8"
      },
      "execution_count": 17,
      "outputs": [
        {
          "output_type": "stream",
          "name": "stdout",
          "text": [
            "Top-N list of products typical to customers in this demographic:\n",
            "Product Name\n",
            "Mouse       218\n",
            "Monitor     212\n",
            "Keyboard    200\n",
            "Laptop      192\n",
            "Printer     177\n",
            "Name: count, dtype: int64\n"
          ]
        }
      ]
    },
    {
      "cell_type": "markdown",
      "source": [
        "6. Categoric Makeup of Their Baskets on Average"
      ],
      "metadata": {
        "id": "pfb7JQg1ev23"
      }
    },
    {
      "cell_type": "code",
      "source": [
        "categoric_makeup = sales_data[sales_data['OrderID'].isin(large_basket_orders[large_basket_orders > 3].index)]['Product Name'].value_counts(normalize=True)\n",
        "print(\"Categoric makeup of their baskets on average:\")\n",
        "print(categoric_makeup)"
      ],
      "metadata": {
        "colab": {
          "base_uri": "https://localhost:8080/"
        },
        "id": "6w89Zk9eewEf",
        "outputId": "d74849b0-4b5c-42c3-9b8d-41a2743bae37"
      },
      "execution_count": 18,
      "outputs": [
        {
          "output_type": "stream",
          "name": "stdout",
          "text": [
            "Categoric makeup of their baskets on average:\n",
            "Series([], Name: proportion, dtype: float64)\n"
          ]
        }
      ]
    },
    {
      "cell_type": "markdown",
      "source": [
        "7. Visualization for Categoric Makeup"
      ],
      "metadata": {
        "id": "ltVumN9-e6xQ"
      }
    },
    {
      "cell_type": "code",
      "source": [
        "plt.figure(figsize=(10, 6))\n",
        "if not categoric_makeup.empty:\n",
        "    categoric_makeup.plot(kind='bar')\n",
        "    plt.title('Categoric Makeup of Large-Basket Orders')\n",
        "    plt.xlabel('Product Name')\n",
        "    plt.ylabel('Proportion')\n",
        "    plt.xticks(rotation=45)\n",
        "    plt.show()\n",
        "else:\n",
        "    print(\"No large-basket orders found to plot categoric makeup.\")"
      ],
      "metadata": {
        "colab": {
          "base_uri": "https://localhost:8080/",
          "height": 54
        },
        "id": "zwztM_NRe68g",
        "outputId": "a98c86c6-414d-4da0-8512-a5e1f3eb256f"
      },
      "execution_count": 19,
      "outputs": [
        {
          "output_type": "stream",
          "name": "stdout",
          "text": [
            "No large-basket orders found to plot categoric makeup.\n"
          ]
        },
        {
          "output_type": "display_data",
          "data": {
            "text/plain": [
              "<Figure size 1000x600 with 0 Axes>"
            ]
          },
          "metadata": {}
        }
      ]
    }
  ]
}