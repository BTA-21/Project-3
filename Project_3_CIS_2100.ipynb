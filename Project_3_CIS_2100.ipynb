{
  "nbformat": 4,
  "nbformat_minor": 0,
  "metadata": {
    "colab": {
      "provenance": []
    },
    "kernelspec": {
      "name": "python3",
      "display_name": "Python 3"
    },
    "language_info": {
      "name": "python"
    }
  },
  "cells": [
    {
      "cell_type": "markdown",
      "source": [
        "Project 2 Section"
      ],
      "metadata": {
        "id": "qI-mP--Fb1Hp"
      }
    },
    {
      "cell_type": "code",
      "execution_count": 43,
      "metadata": {
        "id": "vTzOM-DRixCj",
        "colab": {
          "base_uri": "https://localhost:8080/"
        },
        "outputId": "a44562fe-50ac-487d-ecb0-10a350de3641"
      },
      "outputs": [
        {
          "output_type": "stream",
          "name": "stderr",
          "text": [
            "/usr/local/lib/python3.10/dist-packages/ipykernel/ipkernel.py:283: DeprecationWarning: `should_run_async` will not call `transform_cell` automatically in the future. Please pass the result to `transformed_cell` argument and any exception that happen during thetransform in `preprocessing_exc_tuple` in IPython 7.17 and above.\n",
            "  and should_run_async(code)\n"
          ]
        }
      ],
      "source": [
        "import pandas as pd\n",
        "\n",
        "df = pd.read_csv('sales_data.csv')"
      ]
    },
    {
      "cell_type": "code",
      "source": [
        "print(df.head(10))"
      ],
      "metadata": {
        "colab": {
          "base_uri": "https://localhost:8080/"
        },
        "id": "YbqIxYKtjL8Z",
        "outputId": "fc920fd3-c745-43fb-d869-7f82ffce5db9",
        "collapsed": true
      },
      "execution_count": 44,
      "outputs": [
        {
          "output_type": "stream",
          "name": "stdout",
          "text": [
            "         Date      Time    StoreID CustomerID  \\\n",
            "0  2023-01-01  00:00:00  Store_001   Cust_842   \n",
            "1  2023-01-01  00:00:00  Store_001   Cust_271   \n",
            "2  2023-01-01  00:00:00  Store_001   Cust_271   \n",
            "3  2023-01-01  00:00:00  Store_001   Cust_271   \n",
            "4  2023-01-01  00:00:00  Store_001   Cust_768   \n",
            "5  2023-01-01  00:00:00  Store_001   Cust_154   \n",
            "6  2023-01-01  00:00:00  Store_001   Cust_832   \n",
            "7  2023-01-01  00:00:00  Store_001   Cust_832   \n",
            "8  2023-01-01  00:00:00  Store_001   Cust_832   \n",
            "9  2023-01-01  00:00:00  Store_001   Cust_857   \n",
            "\n",
            "                                OrderID Product Name   Price  \n",
            "0  bc2cbca2-cf74-49de-b096-af3c6a7575f5      Monitor   300.0  \n",
            "1  8f7ac0dc-563e-4495-b7d1-8728c5460716      Printer   150.0  \n",
            "2  8f7ac0dc-563e-4495-b7d1-8728c5460716        Mouse    25.0  \n",
            "3  8f7ac0dc-563e-4495-b7d1-8728c5460716      Monitor   300.0  \n",
            "4  8f9d7a8d-85c8-48d9-99a7-4d1e3ef57f71     Keyboard    45.0  \n",
            "5  1af72663-788b-4ded-a3ef-e8df00c65b55      Printer   150.0  \n",
            "6  38437756-7583-4f2f-82f4-dcf6c52bc62e       Laptop  1200.0  \n",
            "7  38437756-7583-4f2f-82f4-dcf6c52bc62e      Monitor   300.0  \n",
            "8  38437756-7583-4f2f-82f4-dcf6c52bc62e      Printer   150.0  \n",
            "9  a48a7304-fe97-45e2-bf2d-5c40f96f824d      Printer   150.0  \n"
          ]
        },
        {
          "output_type": "stream",
          "name": "stderr",
          "text": [
            "/usr/local/lib/python3.10/dist-packages/ipykernel/ipkernel.py:283: DeprecationWarning: `should_run_async` will not call `transform_cell` automatically in the future. Please pass the result to `transformed_cell` argument and any exception that happen during thetransform in `preprocessing_exc_tuple` in IPython 7.17 and above.\n",
            "  and should_run_async(code)\n"
          ]
        }
      ]
    },
    {
      "cell_type": "code",
      "source": [
        "import pandas as pd\n",
        "import matplotlib.pyplot as plt"
      ],
      "metadata": {
        "id": "ozw9WZAXq8tc",
        "colab": {
          "base_uri": "https://localhost:8080/"
        },
        "outputId": "5cd59f20-9dfa-4a63-fad8-18963acfb751"
      },
      "execution_count": 45,
      "outputs": [
        {
          "output_type": "stream",
          "name": "stderr",
          "text": [
            "/usr/local/lib/python3.10/dist-packages/ipykernel/ipkernel.py:283: DeprecationWarning: `should_run_async` will not call `transform_cell` automatically in the future. Please pass the result to `transformed_cell` argument and any exception that happen during thetransform in `preprocessing_exc_tuple` in IPython 7.17 and above.\n",
            "  and should_run_async(code)\n"
          ]
        }
      ]
    },
    {
      "cell_type": "code",
      "source": [
        "# Load the sales data\n",
        "file_path = 'sales_data.csv'\n",
        "sales_data = pd.read_csv(file_path)"
      ],
      "metadata": {
        "id": "x10L6yatrBA5",
        "colab": {
          "base_uri": "https://localhost:8080/"
        },
        "outputId": "422897ea-2c24-4cab-c228-cf2d2f379faf"
      },
      "execution_count": 46,
      "outputs": [
        {
          "output_type": "stream",
          "name": "stderr",
          "text": [
            "/usr/local/lib/python3.10/dist-packages/ipykernel/ipkernel.py:283: DeprecationWarning: `should_run_async` will not call `transform_cell` automatically in the future. Please pass the result to `transformed_cell` argument and any exception that happen during thetransform in `preprocessing_exc_tuple` in IPython 7.17 and above.\n",
            "  and should_run_async(code)\n"
          ]
        }
      ]
    },
    {
      "cell_type": "code",
      "source": [
        "# Display the first few rows of the dataframe\n",
        "print(sales_data.head())"
      ],
      "metadata": {
        "colab": {
          "base_uri": "https://localhost:8080/"
        },
        "id": "KSfn3UegrGiT",
        "outputId": "74c824d6-daac-4a6e-a43c-181b0b139005",
        "collapsed": true
      },
      "execution_count": 47,
      "outputs": [
        {
          "output_type": "stream",
          "name": "stdout",
          "text": [
            "         Date      Time    StoreID CustomerID  \\\n",
            "0  2023-01-01  00:00:00  Store_001   Cust_842   \n",
            "1  2023-01-01  00:00:00  Store_001   Cust_271   \n",
            "2  2023-01-01  00:00:00  Store_001   Cust_271   \n",
            "3  2023-01-01  00:00:00  Store_001   Cust_271   \n",
            "4  2023-01-01  00:00:00  Store_001   Cust_768   \n",
            "\n",
            "                                OrderID Product Name  Price  \n",
            "0  bc2cbca2-cf74-49de-b096-af3c6a7575f5      Monitor  300.0  \n",
            "1  8f7ac0dc-563e-4495-b7d1-8728c5460716      Printer  150.0  \n",
            "2  8f7ac0dc-563e-4495-b7d1-8728c5460716        Mouse   25.0  \n",
            "3  8f7ac0dc-563e-4495-b7d1-8728c5460716      Monitor  300.0  \n",
            "4  8f9d7a8d-85c8-48d9-99a7-4d1e3ef57f71     Keyboard   45.0  \n"
          ]
        },
        {
          "output_type": "stream",
          "name": "stderr",
          "text": [
            "/usr/local/lib/python3.10/dist-packages/ipykernel/ipkernel.py:283: DeprecationWarning: `should_run_async` will not call `transform_cell` automatically in the future. Please pass the result to `transformed_cell` argument and any exception that happen during thetransform in `preprocessing_exc_tuple` in IPython 7.17 and above.\n",
            "  and should_run_async(code)\n"
          ]
        }
      ]
    },
    {
      "cell_type": "code",
      "source": [
        "# 1. The most prevalent products in customer baskets\n",
        "prevalent_products = sales_data['Product Name'].value_counts()\n",
        "print(\"Most prevalent products in customer baskets:\")\n",
        "print(prevalent_products)"
      ],
      "metadata": {
        "colab": {
          "base_uri": "https://localhost:8080/"
        },
        "id": "cVsG8m53rd1m",
        "outputId": "89c89edf-3767-4aa3-bec3-845da0b69219",
        "collapsed": true
      },
      "execution_count": 48,
      "outputs": [
        {
          "output_type": "stream",
          "name": "stdout",
          "text": [
            "Most prevalent products in customer baskets:\n",
            "Product Name\n",
            "Laptop      226\n",
            "Mouse       208\n",
            "Keyboard    195\n",
            "Monitor     188\n",
            "Printer     182\n",
            "Name: count, dtype: int64\n"
          ]
        },
        {
          "output_type": "stream",
          "name": "stderr",
          "text": [
            "/usr/local/lib/python3.10/dist-packages/ipykernel/ipkernel.py:283: DeprecationWarning: `should_run_async` will not call `transform_cell` automatically in the future. Please pass the result to `transformed_cell` argument and any exception that happen during thetransform in `preprocessing_exc_tuple` in IPython 7.17 and above.\n",
            "  and should_run_async(code)\n"
          ]
        }
      ]
    },
    {
      "cell_type": "code",
      "source": [
        "# 2. The frequency by which customers were large buyers or filled up large baskets\n",
        "# Assuming large basket is defined as having more than 3 items in a single order\n",
        "large_basket_orders = sales_data.groupby('OrderID').size()\n",
        "large_basket_frequency = large_basket_orders[large_basket_orders > 3].count()\n",
        "print(f\"Frequency of large basket orders: {large_basket_frequency}\")"
      ],
      "metadata": {
        "colab": {
          "base_uri": "https://localhost:8080/"
        },
        "id": "pioSMnfVriEq",
        "outputId": "c2c8433c-d82a-47e1-c277-bb064798b9ce",
        "collapsed": true
      },
      "execution_count": 49,
      "outputs": [
        {
          "output_type": "stream",
          "name": "stdout",
          "text": [
            "Frequency of large basket orders: 0\n"
          ]
        },
        {
          "output_type": "stream",
          "name": "stderr",
          "text": [
            "/usr/local/lib/python3.10/dist-packages/ipykernel/ipkernel.py:283: DeprecationWarning: `should_run_async` will not call `transform_cell` automatically in the future. Please pass the result to `transformed_cell` argument and any exception that happen during thetransform in `preprocessing_exc_tuple` in IPython 7.17 and above.\n",
            "  and should_run_async(code)\n"
          ]
        }
      ]
    },
    {
      "cell_type": "code",
      "source": [
        "# 3. Which stores contained the large-basket buyers and by how much\n",
        "large_basket_store_counts = sales_data[sales_data['OrderID'].isin(large_basket_orders[large_basket_orders > 3].index)]['StoreID'].value_counts()\n",
        "print(\"Stores containing large-basket buyers and their counts:\")\n",
        "print(large_basket_store_counts)"
      ],
      "metadata": {
        "colab": {
          "base_uri": "https://localhost:8080/"
        },
        "id": "hNokRAyGrniK",
        "outputId": "60db9a54-3b86-41bf-bb27-87adfcbe2ac3",
        "collapsed": true
      },
      "execution_count": 50,
      "outputs": [
        {
          "output_type": "stream",
          "name": "stdout",
          "text": [
            "Stores containing large-basket buyers and their counts:\n",
            "Series([], Name: count, dtype: int64)\n"
          ]
        },
        {
          "output_type": "stream",
          "name": "stderr",
          "text": [
            "/usr/local/lib/python3.10/dist-packages/ipykernel/ipkernel.py:283: DeprecationWarning: `should_run_async` will not call `transform_cell` automatically in the future. Please pass the result to `transformed_cell` argument and any exception that happen during thetransform in `preprocessing_exc_tuple` in IPython 7.17 and above.\n",
            "  and should_run_async(code)\n"
          ]
        }
      ]
    },
    {
      "cell_type": "code",
      "source": [
        "# 4. A visualization that ranks the top large-basket customer stores by frequency\n",
        "plt.figure(figsize=(10, 6))\n",
        "if not large_basket_store_counts.empty:\n",
        "    large_basket_store_counts.plot(kind='bar')\n",
        "    plt.title('Top Large-Basket Customer Stores by Frequency')\n",
        "    plt.xlabel('Store ID')\n",
        "    plt.ylabel('Frequency')\n",
        "    plt.xticks(rotation=45)\n",
        "    plt.show()\n",
        "else:\n",
        "    print(\"No large-basket orders found to plot.\")"
      ],
      "metadata": {
        "colab": {
          "base_uri": "https://localhost:8080/",
          "height": 110
        },
        "id": "FLvYeecUrsG5",
        "outputId": "f7e1bf13-a624-4d3e-e37f-1d255c9e349f",
        "collapsed": true
      },
      "execution_count": 51,
      "outputs": [
        {
          "output_type": "stream",
          "name": "stdout",
          "text": [
            "No large-basket orders found to plot.\n"
          ]
        },
        {
          "output_type": "stream",
          "name": "stderr",
          "text": [
            "/usr/local/lib/python3.10/dist-packages/ipykernel/ipkernel.py:283: DeprecationWarning: `should_run_async` will not call `transform_cell` automatically in the future. Please pass the result to `transformed_cell` argument and any exception that happen during thetransform in `preprocessing_exc_tuple` in IPython 7.17 and above.\n",
            "  and should_run_async(code)\n"
          ]
        },
        {
          "output_type": "display_data",
          "data": {
            "text/plain": [
              "<Figure size 1000x600 with 0 Axes>"
            ]
          },
          "metadata": {}
        }
      ]
    },
    {
      "cell_type": "code",
      "source": [
        "# 5. A top-n list of products which were typical to customers in this demographic\n",
        "top_n_products = prevalent_products.head(10)\n",
        "print(\"Top-N list of products typical to customers in this demographic:\")\n",
        "print(top_n_products)"
      ],
      "metadata": {
        "colab": {
          "base_uri": "https://localhost:8080/"
        },
        "id": "GXGhmOhJryNx",
        "outputId": "d5be91e8-1c3a-4474-a5df-679605d5eff6",
        "collapsed": true
      },
      "execution_count": 52,
      "outputs": [
        {
          "output_type": "stream",
          "name": "stderr",
          "text": [
            "/usr/local/lib/python3.10/dist-packages/ipykernel/ipkernel.py:283: DeprecationWarning: `should_run_async` will not call `transform_cell` automatically in the future. Please pass the result to `transformed_cell` argument and any exception that happen during thetransform in `preprocessing_exc_tuple` in IPython 7.17 and above.\n",
            "  and should_run_async(code)\n"
          ]
        },
        {
          "output_type": "stream",
          "name": "stdout",
          "text": [
            "Top-N list of products typical to customers in this demographic:\n",
            "Product Name\n",
            "Laptop      226\n",
            "Mouse       208\n",
            "Keyboard    195\n",
            "Monitor     188\n",
            "Printer     182\n",
            "Name: count, dtype: int64\n"
          ]
        }
      ]
    },
    {
      "cell_type": "code",
      "source": [
        "# 6. A categorical approach to the above demographic – what is the categoric makeup of their baskets on average?\n",
        "categoric_makeup = sales_data[sales_data['OrderID'].isin(large_basket_orders[large_basket_orders > 3].index)]['Product Name'].value_counts(normalize=True)\n",
        "print(\"Categoric makeup of their baskets on average:\")\n",
        "print(categoric_makeup)"
      ],
      "metadata": {
        "colab": {
          "base_uri": "https://localhost:8080/"
        },
        "id": "V7ylzdC7r1y0",
        "outputId": "cf00944d-9e9e-4183-f1af-372df779ac6e",
        "collapsed": true
      },
      "execution_count": 53,
      "outputs": [
        {
          "output_type": "stream",
          "name": "stderr",
          "text": [
            "/usr/local/lib/python3.10/dist-packages/ipykernel/ipkernel.py:283: DeprecationWarning: `should_run_async` will not call `transform_cell` automatically in the future. Please pass the result to `transformed_cell` argument and any exception that happen during thetransform in `preprocessing_exc_tuple` in IPython 7.17 and above.\n",
            "  and should_run_async(code)\n"
          ]
        },
        {
          "output_type": "stream",
          "name": "stdout",
          "text": [
            "Categoric makeup of their baskets on average:\n",
            "Series([], Name: proportion, dtype: float64)\n"
          ]
        }
      ]
    },
    {
      "cell_type": "code",
      "source": [
        "# 7. Formulate a visualization for item 6\n",
        "plt.figure(figsize=(10, 6))\n",
        "if not categoric_makeup.empty:\n",
        "    categoric_makeup.plot(kind='bar')\n",
        "    plt.title('Categoric Makeup of Large-Basket Orders')\n",
        "    plt.xlabel('Product Name')\n",
        "    plt.ylabel('Proportion')\n",
        "    plt.xticks(rotation=45)\n",
        "    plt.show()\n",
        "else:\n",
        "    print(\"No large-basket orders found to plot categoric makeup.\")"
      ],
      "metadata": {
        "colab": {
          "base_uri": "https://localhost:8080/",
          "height": 110
        },
        "id": "o33DHz1Mr7tp",
        "outputId": "00219eff-9998-4f7e-8c1c-fdd9c45a7192",
        "collapsed": true
      },
      "execution_count": 54,
      "outputs": [
        {
          "output_type": "stream",
          "name": "stderr",
          "text": [
            "/usr/local/lib/python3.10/dist-packages/ipykernel/ipkernel.py:283: DeprecationWarning: `should_run_async` will not call `transform_cell` automatically in the future. Please pass the result to `transformed_cell` argument and any exception that happen during thetransform in `preprocessing_exc_tuple` in IPython 7.17 and above.\n",
            "  and should_run_async(code)\n"
          ]
        },
        {
          "output_type": "stream",
          "name": "stdout",
          "text": [
            "No large-basket orders found to plot categoric makeup.\n"
          ]
        },
        {
          "output_type": "display_data",
          "data": {
            "text/plain": [
              "<Figure size 1000x600 with 0 Axes>"
            ]
          },
          "metadata": {}
        }
      ]
    },
    {
      "cell_type": "markdown",
      "source": [
        "Project 3 Section\n"
      ],
      "metadata": {
        "id": "RjzzUpc4bvuk"
      }
    },
    {
      "cell_type": "markdown",
      "source": [
        "1. Most Prevalent Products\n",
        "---\n",
        "\n"
      ],
      "metadata": {
        "id": "mE2gpKDhcILA"
      }
    },
    {
      "cell_type": "code",
      "source": [
        "# Count the occurrences of each product (PROJECT 3)\n",
        "product_counts = sales_data['Product Name'].value_counts()\n",
        "\n",
        "# Display the most prevalent products\n",
        "print(\"Most Prevalent Products:\")\n",
        "print(product_counts.head())"
      ],
      "metadata": {
        "colab": {
          "base_uri": "https://localhost:8080/"
        },
        "id": "_MzZYRiWb--o",
        "outputId": "57ad07cb-fbda-462e-c437-6c26d686b124"
      },
      "execution_count": 55,
      "outputs": [
        {
          "output_type": "stream",
          "name": "stdout",
          "text": [
            "Most Prevalent Products:\n",
            "Product Name\n",
            "Laptop      226\n",
            "Mouse       208\n",
            "Keyboard    195\n",
            "Monitor     188\n",
            "Printer     182\n",
            "Name: count, dtype: int64\n"
          ]
        },
        {
          "output_type": "stream",
          "name": "stderr",
          "text": [
            "/usr/local/lib/python3.10/dist-packages/ipykernel/ipkernel.py:283: DeprecationWarning: `should_run_async` will not call `transform_cell` automatically in the future. Please pass the result to `transformed_cell` argument and any exception that happen during thetransform in `preprocessing_exc_tuple` in IPython 7.17 and above.\n",
            "  and should_run_async(code)\n"
          ]
        }
      ]
    },
    {
      "cell_type": "markdown",
      "source": [
        "2. Large Basket Orders"
      ],
      "metadata": {
        "id": "4ycaYKhQcP5Y"
      }
    },
    {
      "cell_type": "code",
      "source": [
        "# Define a large basket as having more than a certain number of items (PROJECT 3)\n",
        "large_basket_threshold = 5\n",
        "\n",
        "# Group by CustomerID and count the number of items in each basket\n",
        "basket_sizes = sales_data.groupby('CustomerID').size()\n",
        "\n",
        "# Count the number of large baskets\n",
        "large_basket_counts = basket_sizes[basket_sizes > large_basket_threshold].count()\n",
        "\n",
        "# Display the frequency of large buyers\n",
        "print(\"Number of Large Baskets:\")\n",
        "print(large_basket_counts)"
      ],
      "metadata": {
        "colab": {
          "base_uri": "https://localhost:8080/"
        },
        "id": "zKuIBpArcRLz",
        "outputId": "6953dcc7-3b41-4107-99e2-7791d0c1de8d"
      },
      "execution_count": 56,
      "outputs": [
        {
          "output_type": "stream",
          "name": "stderr",
          "text": [
            "/usr/local/lib/python3.10/dist-packages/ipykernel/ipkernel.py:283: DeprecationWarning: `should_run_async` will not call `transform_cell` automatically in the future. Please pass the result to `transformed_cell` argument and any exception that happen during thetransform in `preprocessing_exc_tuple` in IPython 7.17 and above.\n",
            "  and should_run_async(code)\n"
          ]
        },
        {
          "output_type": "stream",
          "name": "stdout",
          "text": [
            "Number of Large Baskets:\n",
            "18\n"
          ]
        }
      ]
    },
    {
      "cell_type": "markdown",
      "source": [
        "3. Stores Containing Large-Basket Buyers"
      ],
      "metadata": {
        "id": "tdztaQGFcal4"
      }
    },
    {
      "cell_type": "code",
      "source": [
        "\n",
        "# Group by StoreID and count the number of large baskets in each store (PROJECT 3)\n",
        "large_basket_stores = sales_data[sales_data['CustomerID'].isin(basket_sizes[basket_sizes > large_basket_threshold].index)]\n",
        "store_large_basket_counts = large_basket_stores['StoreID'].value_counts()\n",
        "\n",
        "# Display the stores with large-basket buyers\n",
        "print(\"Stores with Large-Basket Buyers:\")\n",
        "print(store_large_basket_counts)\n",
        ""
      ],
      "metadata": {
        "colab": {
          "base_uri": "https://localhost:8080/"
        },
        "id": "g-rVD3eEcdBZ",
        "outputId": "42f90eeb-525c-4f49-9a20-f4204ebb688e"
      },
      "execution_count": 57,
      "outputs": [
        {
          "output_type": "stream",
          "name": "stderr",
          "text": [
            "/usr/local/lib/python3.10/dist-packages/ipykernel/ipkernel.py:283: DeprecationWarning: `should_run_async` will not call `transform_cell` automatically in the future. Please pass the result to `transformed_cell` argument and any exception that happen during thetransform in `preprocessing_exc_tuple` in IPython 7.17 and above.\n",
            "  and should_run_async(code)\n"
          ]
        },
        {
          "output_type": "stream",
          "name": "stdout",
          "text": [
            "Stores with Large-Basket Buyers:\n",
            "StoreID\n",
            "Store_028    13\n",
            "Store_021     7\n",
            "Store_039     6\n",
            "Store_020     6\n",
            "Store_043     6\n",
            "Store_004     6\n",
            "Store_014     6\n",
            "Store_047     5\n",
            "Store_037     5\n",
            "Store_041     5\n",
            "Store_029     4\n",
            "Store_017     4\n",
            "Store_011     4\n",
            "Store_008     4\n",
            "Store_038     3\n",
            "Store_034     3\n",
            "Store_035     3\n",
            "Store_003     3\n",
            "Store_032     3\n",
            "Store_030     3\n",
            "Store_026     3\n",
            "Store_015     3\n",
            "Store_010     3\n",
            "Store_009     3\n",
            "Store_044     2\n",
            "Store_045     2\n",
            "Store_046     1\n",
            "Store_007     1\n",
            "Store_051     1\n",
            "Name: count, dtype: int64\n"
          ]
        }
      ]
    },
    {
      "cell_type": "markdown",
      "source": [
        " 4. Visualization of Top Large-Basket Customer Stores by Frequency"
      ],
      "metadata": {
        "id": "uhBaaFSkcgY7"
      }
    },
    {
      "cell_type": "code",
      "source": [
        "import matplotlib.pyplot as plt\n",
        "\n",
        "# Plot the top stores with large-basket buyers (PROJECT 3)\n",
        "store_large_basket_counts.head(10).plot(kind='bar')\n",
        "plt.title('Top Stores with Large-Basket Buyers')\n",
        "plt.xlabel('StoreID')\n",
        "plt.ylabel('Number of Large Baskets')\n",
        "plt.show()\n",
        ""
      ],
      "metadata": {
        "colab": {
          "base_uri": "https://localhost:8080/",
          "height": 584
        },
        "id": "9b9gK0udcgmr",
        "outputId": "e0a0bd22-4936-41ea-9bf9-2cfcb823ee75"
      },
      "execution_count": 58,
      "outputs": [
        {
          "output_type": "stream",
          "name": "stderr",
          "text": [
            "/usr/local/lib/python3.10/dist-packages/ipykernel/ipkernel.py:283: DeprecationWarning: `should_run_async` will not call `transform_cell` automatically in the future. Please pass the result to `transformed_cell` argument and any exception that happen during thetransform in `preprocessing_exc_tuple` in IPython 7.17 and above.\n",
            "  and should_run_async(code)\n"
          ]
        },
        {
          "output_type": "display_data",
          "data": {
            "text/plain": [
              "<Figure size 640x480 with 1 Axes>"
            ],
            "image/png": "[encoded data removed]"
          },
          "metadata": {}
        }
      ]
    },
    {
      "cell_type": "markdown",
      "source": [
        "5. Top-N List of Products Typical to Customers"
      ],
      "metadata": {
        "id": "ZEE_6LQXejFB"
      }
    },
    {
      "cell_type": "code",
      "source": [
        "# Get the products in large baskets (PROJECT 3)\n",
        "large_basket_products = large_basket_stores['Product Name'].value_counts()\n",
        "\n",
        "# Display the top-N products\n",
        "top_n = 10\n",
        "print(\"Top Products in Large Baskets:\")\n",
        "print(large_basket_products.head(top_n))\n"
      ],
      "metadata": {
        "colab": {
          "base_uri": "https://localhost:8080/"
        },
        "id": "sNWUYDX5eke4",
        "outputId": "860227b3-9f23-4dcc-d428-81c829b2630a"
      },
      "execution_count": 59,
      "outputs": [
        {
          "output_type": "stream",
          "name": "stdout",
          "text": [
            "Top Products in Large Baskets:\n",
            "Product Name\n",
            "Keyboard    27\n",
            "Printer     27\n",
            "Laptop      22\n",
            "Monitor     21\n",
            "Mouse       21\n",
            "Name: count, dtype: int64\n"
          ]
        },
        {
          "output_type": "stream",
          "name": "stderr",
          "text": [
            "/usr/local/lib/python3.10/dist-packages/ipykernel/ipkernel.py:283: DeprecationWarning: `should_run_async` will not call `transform_cell` automatically in the future. Please pass the result to `transformed_cell` argument and any exception that happen during thetransform in `preprocessing_exc_tuple` in IPython 7.17 and above.\n",
            "  and should_run_async(code)\n"
          ]
        }
      ]
    },
    {
      "cell_type": "markdown",
      "source": [
        "6. Categoric Makeup of Their Baskets on Average"
      ],
      "metadata": {
        "id": "pfb7JQg1ev23"
      }
    },
    {
      "cell_type": "code",
      "source": [
        "\n",
        "# Group by CustomerID and get the average basket makeup\n",
        "basket_makeup = sales_data.groupby('CustomerID')['Product Name'].apply(lambda x: x.value_counts(normalize=True))\n",
        "\n",
        "# Display the average categorical makeup of baskets\n",
        "print(\"Average Categorical Makeup of Baskets:\")\n",
        "print(basket_makeup.head())"
      ],
      "metadata": {
        "colab": {
          "base_uri": "https://localhost:8080/"
        },
        "id": "6w89Zk9eewEf",
        "outputId": "1972b0e2-00c6-4dfb-c3ad-252bc022b718"
      },
      "execution_count": 60,
      "outputs": [
        {
          "output_type": "stream",
          "name": "stderr",
          "text": [
            "/usr/local/lib/python3.10/dist-packages/ipykernel/ipkernel.py:283: DeprecationWarning: `should_run_async` will not call `transform_cell` automatically in the future. Please pass the result to `transformed_cell` argument and any exception that happen during thetransform in `preprocessing_exc_tuple` in IPython 7.17 and above.\n",
            "  and should_run_async(code)\n"
          ]
        },
        {
          "output_type": "stream",
          "name": "stdout",
          "text": [
            "Average Categorical Makeup of Baskets:\n",
            "CustomerID          \n",
            "Cust_003    Keyboard    1.000000\n",
            "Cust_004    Laptop      1.000000\n",
            "Cust_005    Laptop      0.333333\n",
            "            Printer     0.333333\n",
            "            Mouse       0.333333\n",
            "Name: Product Name, dtype: float64\n"
          ]
        }
      ]
    },
    {
      "cell_type": "markdown",
      "source": [
        "7. Visualization for Categoric Makeup"
      ],
      "metadata": {
        "id": "ltVumN9-e6xQ"
      }
    },
    {
      "cell_type": "code",
      "source": [
        "# Plot the categorical makeup of baskets\n",
        "basket_makeup_df = basket_makeup.unstack().mean().sort_values(ascending=False)\n",
        "basket_makeup_df.plot(kind='bar')\n",
        "plt.title('Average Categorical Makeup of Baskets')\n",
        "plt.xlabel('Product Name')\n",
        "plt.ylabel('Average Proportion in Basket')\n",
        "plt.show()"
      ],
      "metadata": {
        "colab": {
          "base_uri": "https://localhost:8080/",
          "height": 579
        },
        "id": "go_tOI1FsRen",
        "outputId": "9c9a6658-e0f1-4181-f067-63a4f91dae5d"
      },
      "execution_count": 61,
      "outputs": [
        {
          "output_type": "stream",
          "name": "stderr",
          "text": [
            "/usr/local/lib/python3.10/dist-packages/ipykernel/ipkernel.py:283: DeprecationWarning: `should_run_async` will not call `transform_cell` automatically in the future. Please pass the result to `transformed_cell` argument and any exception that happen during thetransform in `preprocessing_exc_tuple` in IPython 7.17 and above.\n",
            "  and should_run_async(code)\n"
          ]
        },
        {
          "output_type": "display_data",
          "data": {
            "text/plain": [
              "<Figure size 640x480 with 1 Axes>"
            ],
            "image/png": "[encoded data removed]"
          },
          "metadata": {}
        }
      ]
    },
    {
      "cell_type": "markdown",
      "source": [
        "8. Market Basket Analysis"
      ],
      "metadata": {
        "id": "wmgz4-vMtWhB"
      }
    },
    {
      "cell_type": "code",
      "source": [
        "from mlxtend.frequent_patterns import apriori, association_rules\n",
        "\n",
        "# Create a basket for each store\n",
        "basket = (sales_data.groupby(['StoreID', 'OrderID', 'Product Name'])['Product Name']\n",
        "          .count().unstack().reset_index().fillna(0)\n",
        "          .set_index(['StoreID', 'OrderID']))\n",
        "\n",
        "# Convert the values to 1 and 0\n",
        "def encode_units(x):\n",
        "    return 1 if x >= 1 else 0\n",
        "\n",
        "basket_sets = basket.applymap(encode_units)\n",
        "\n",
        "# Perform market basket analysis using the Apriori algorithm\n",
        "frequent_itemsets = apriori(basket_sets, min_support=0.01, use_colnames=True)\n",
        "\n",
        "# Generate the association rules, specifying num_itemsets\n",
        "rules = association_rules(frequent_itemsets, metric=\"lift\", min_threshold=1, support_only=False, num_itemsets=frequent_itemsets['itemsets'].apply(len))\n",
        "# Display the most frequently occurring itemsets\n",
        "print(frequent_itemsets.sort_values(by='support', ascending=False).head())\n",
        "\n",
        "# Display the association rules\n",
        "print(rules.head())\n",
        ""
      ],
      "metadata": {
        "id": "zwztM_NRe68g",
        "outputId": "7ab146eb-23ad-4c16-ca9e-26b57359bd0c",
        "colab": {
          "base_uri": "https://localhost:8080/"
        }
      },
      "execution_count": 62,
      "outputs": [
        {
          "output_type": "stream",
          "name": "stdout",
          "text": [
            "    support    itemsets\n",
            "1  0.446640    (Laptop)\n",
            "3  0.411067     (Mouse)\n",
            "0  0.385375  (Keyboard)\n",
            "2  0.371542   (Monitor)\n",
            "4  0.359684   (Printer)\n",
            "Empty DataFrame\n",
            "Columns: [antecedents, consequents, antecedent support, consequent support, support, confidence, lift, representativity, leverage, conviction, zhangs_metric, jaccard, certainty, kulczynski]\n",
            "Index: []\n"
          ]
        },
        {
          "output_type": "stream",
          "name": "stderr",
          "text": [
            "/usr/local/lib/python3.10/dist-packages/ipykernel/ipkernel.py:283: DeprecationWarning: `should_run_async` will not call `transform_cell` automatically in the future. Please pass the result to `transformed_cell` argument and any exception that happen during thetransform in `preprocessing_exc_tuple` in IPython 7.17 and above.\n",
            "  and should_run_async(code)\n",
            "<ipython-input-62-280dec10de1d>:12: FutureWarning: DataFrame.applymap has been deprecated. Use DataFrame.map instead.\n",
            "  basket_sets = basket.applymap(encode_units)\n",
            "/usr/local/lib/python3.10/dist-packages/mlxtend/frequent_patterns/fpcommon.py:161: DeprecationWarning: DataFrames with non-bool types result in worse computationalperformance and their support might be discontinued in the future.Please use a DataFrame with bool type\n",
            "  warnings.warn(\n"
          ]
        }
      ]
    }
  ]
}